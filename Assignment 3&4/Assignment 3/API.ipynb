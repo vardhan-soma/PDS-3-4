{
  "cells": [
    {
      "cell_type": "code",
      "execution_count": 1,
      "id": "4a662370",
      "metadata": {
        "colab": {
          "base_uri": "https://localhost:8080/"
        },
        "id": "4a662370",
        "outputId": "167dcf59-8b7a-40b4-d553-e1dd5700f2cb"
      },
      "outputs": [
        {
          "output_type": "stream",
          "name": "stdout",
          "text": [
            "{'responseStatus': 'PRODUCT_FOUND_RESPONSE', 'responseMessage': 'Product successfully found!', 'productTitle': 'IRON °FLASK Co-Pilot Insulated Tumbler w/Straw & Flip Cap Lids - Cup Holder Bottle for Hot, Cold Drink - Leak-Proof- Water, Coffee Portable Travel Mug - Burgundy, 32 Oz', 'manufacturer': 'Visit the IRON °FLASK Store', 'countReview': 1078, 'answeredQuestions': 0, 'productRating': '4.6 out of 5 stars', 'asin': 'B0CFN6GRTH', 'sizeSelection': [], 'soldBy': 'Iron Flask Group', 'fulfilledBy': 'Amazon', 'sellerId': 'A273TAR3MJML80', 'warehouseAvailability': 'In Stock', 'retailPrice': 0.0, 'price': 32.99, 'priceRange': None, 'shippingPrice': 0.0, 'priceShippingInformation': 'FREE delivery Sunday, April 21 on orders shipped by Amazon over $35 Or fastest delivery Thursday, April 18. Order within 1 hr 4 mins', 'priceSaving': None, 'features': [\"INSULATED HOT & COLD TUMBLER: Whether you crave a hot cup of morning coffee an icy-cold refreshing drink, our tumbler's double-walled, vacuum-insulated technology will keep your drinks COLD for up to 20 hours, and HOT for up to 5 hours! No more settling for lukewarm sips or diluted flavors!\", \"FITS IN YOUR CUP HOLDER: Built to fit any standard cup holder - our tumbler's sleek, compact design ensures a secure fit to avoid accidental spills! Our rubber bottom provides a non-slip base for protection & noise proof - making it your ideal travel companion on busy mornings & adventurous journeys.\", 'LIGHTWEIGHT & DURABLE: Crafted with 18/8 Stainless steel that is BPA free and non-toxic - this tumbler is built to withstand the rigors of everyday use, ensuring its durability for years to come. Invest in a tumbler that not only meets but exceeds your expectations.', '2 AIRTIGHT, LEAK PROOF LIDS FOR ANY OCCASION: Embrace versatility with not one, but TWO insulated lids! Included is 1 splash-proof straw lid & a leak-proof flip lid - perfect for hot or cold drinks! Avoid spills & leaks, our lids ensure a secure closure, the ideal travel companion', 'SIMPLE TO CLEAN, DISHWASHER FRIENDLY: Hand-washing a breeze as our wide mouth allows for effortless access to every nook and cranny. Our tumbler is also dishwasher friendly - simply toss it in, let the dishwasher work its magic, & have a sparkling clean tumbler!'], 'imageUrlList': ['https://m.media-amazon.com/images/I/6135tftmuuL._AC_SL1500_.jpg', 'https://m.media-amazon.com/images/I/61TqZ70LHGL._AC_SL1500_.jpg', 'https://m.media-amazon.com/images/I/71eKqPERseL._AC_SL1500_.jpg', 'https://m.media-amazon.com/images/I/61iSp8-348L._AC_SL1500_.jpg', 'https://m.media-amazon.com/images/I/61QV2akRp3L._AC_SL1500_.jpg', 'https://m.media-amazon.com/images/I/61f4hRas7VL._AC_SL1500_.jpg', 'https://m.media-amazon.com/images/I/71M6wS6UJlL._AC_SL1500_.jpg', 'https://m.media-amazon.com/images/I/81puTgtq5DL._AC_SL1500_.jpg', 'https://m.media-amazon.com/images/I/61OEDD-vfML._AC_SL1500_.jpg'], 'videoeUrlList': [], 'productDescription': None, 'productDetails': [{'name': 'Brand', 'value': 'IRON °FLASK'}, {'name': 'Color', 'value': 'Burgundy'}, {'name': 'Special Feature', 'value': 'Sweat Free, Hot 5 Hours, Double Walled, Leak-Proof, Cold 20 Hours'}, {'name': 'Style', 'value': 'Classic'}, {'name': 'Theme', 'value': 'Travel'}, {'name': 'Recommended Uses For Product', 'value': 'Travel'}, {'name': 'Occasion', 'value': 'All Occasions'}, {'name': 'Included Components', 'value': 'Flip Lid, Straw Lid'}, {'name': 'Specific Uses For Product', 'value': 'Cold Drinks'}, {'name': 'Shape', 'value': 'Round'}, {'name': 'Pattern', 'value': 'Solid'}, {'name': 'Product Care Instructions', 'value': 'Hand Wash Only'}, {'name': 'Age Range (Description)', 'value': 'Adult'}, {'name': 'Material Feature', 'value': 'Insulated'}, {'name': 'Reusability', 'value': 'Reusable'}, {'name': 'Unit Count', 'value': '1.0 Count'}, {'name': 'Product Dimensions', 'value': '5\"W x 12\"H'}, {'name': 'Material Type Free', 'value': 'BPA Free'}, {'name': 'Number of Items', 'value': '1'}, {'name': 'Item Weight', 'value': '1.5 pounds'}, {'name': 'ASIN', 'value': 'B0CFN6GRTH'}, {'name': 'Country of Origin', 'value': 'China'}, {'name': 'Customer Reviews', 'value': '4.6 4.6 out of 5 stars 1,078 ratings 4.6 out of 5 stars'}, {'name': 'Best Sellers Rank', 'value': '#745 in Kitchen & Dining (See Top 100 in Kitchen & Dining) #18 in Tumblers & Water Glasses'}, {'name': 'Date First Available', 'value': 'August 14, 2023'}], 'minimalQuantity': '1', 'dealPrice': 0.0, 'salePrice': 0.0, 'reviews': [{'text': 'Great alternative to the $50 viral one. Keeps ice for at least 12 hours. Comes with a lid that accommodates a straw, two of which are provided. Also has a watertight lid with tip to drink hatch. I got a set of brushes to clean the straw and am good to go. I got the speckled green one, and it’s nice looking too.', 'date': 'Reviewed in the United States on March 28, 2024', 'rating': '5.0 out of 5 stars', 'title': 'Reasonable price, great vessel.', 'userName': 'Bill Barry', 'url': '/gp/customer-reviews/R1AMERHNPES97R/ref=cm_cr_dp_d_rvw_ttl?ie=UTF8&ASIN=B0CFN6GRTH', 'imageUrlList': [], 'variationList': ['Color: Dark Pine Speckle', 'Size: 40 Oz'], 'reviewId': 'R1AMERHNPES97R', 'locale': None}, {'text': 'First, this fits perfectly in my cars cup holder which I love. It also has a nice sleek look to it, the purple really pops! When carrying with ice it does not feel heavy at all. And it definitely keeps my water ice cold during my work day. Overall I am very pleased and have made this a permanent staple in my mission to drink more water during the day.', 'date': 'Reviewed in the United States on April 12, 2024', 'rating': '5.0 out of 5 stars', 'title': 'Functional and cute', 'userName': 'GeminiQueen', 'url': '/gp/customer-reviews/R1KYLLILQDPN6U/ref=cm_cr_dp_d_rvw_ttl?ie=UTF8&ASIN=B0CFN6GRTH', 'imageUrlList': [], 'variationList': ['Color: Aurora', 'Size: 40 Oz'], 'reviewId': 'R1KYLLILQDPN6U', 'locale': None}, {'text': 'I got the 40oz Co-Pilot in A Morning Mist. Pros-comes with two lids and two straws, the lid with the straw hole makes it convenient to drink when holding with either hand, the handle isn’t fat but isn’t cheap and is securely attached and fits the hand nicely (I have fairly small hands), color is pretty. Also fits in my tiny ass Dodge cup holders with no issues unlike my 40oz Corkcicle cup. Cons-it’s not dishwasher safe I have several different brands of cups in all sizes and even though they’re not dishwasher safe, I keep coming back to IronFlask again and again. I love that there are two lid options for most cups, they have decent colorways, two straws are included, and they keep drinks hot/cold, not to mention they’re very reasonably priced. They’re worth handwashing in my opinion. I’ll be back for another probably!', 'date': 'Reviewed in the United States on April 5, 2024', 'rating': '5.0 out of 5 stars', 'title': 'My favorite cup', 'userName': 'Angela', 'url': '/gp/customer-reviews/R21HTF5NB7873Y/ref=cm_cr_dp_d_rvw_ttl?ie=UTF8&ASIN=B0CFN6GRTH', 'imageUrlList': [], 'variationList': ['Color: A Morning Mist', 'Size: 40 Oz'], 'reviewId': 'R21HTF5NB7873Y', 'locale': None}, {'text': 'This cup is a must to add to your collection if you are looking for a new tubmler. Its reasonable price, comfortable handle, beautiful colors to choose from, quality, not heavy and keeps ice over night. I have many, many tumblers high end to low end price. this tumbler is one of my favorites because of the quality. It has non skid rubber on the bottom. Most important it keeps drinks cold into the next day and great color choices. I put a silicone boot on the bottom for extra protection.. I also added a straw cover. I leave my drink on my night stand over night and on my desk all day. straws will collect dust, bacteria and bugs may have used it as a landing pad. I want my straw as clean as possible when I drink from it. Happy tumbler shopping.', 'date': 'Reviewed in the United States on March 16, 2024', 'rating': '5.0 out of 5 stars', 'title': 'Sturdy, beautiful color, Keeps ice over night, light weight and rubber on the bottom', 'userName': 'Laura Lopez Laura Lopez', 'url': '/gp/customer-reviews/RFHDOLYHL2RGK/ref=cm_cr_dp_d_rvw_ttl?ie=UTF8&ASIN=B0CFN6GRTH', 'imageUrlList': ['https://m.media-amazon.com/images/I/71yUnif5kmL._SY88.jpg'], 'variationList': ['Color: Aurora', 'Size: 40 Oz'], 'reviewId': 'RFHDOLYHL2RGK', 'locale': None}, {'text': 'This cup does everything it says it does. My drinks stay cold, it doesn’t leak, and it is the perfect shade of purple. However the handle has an open screw hole that hurts my hand every time I hold or carry it. Also the straws are not the greatest quality but otherwise it’s a good cup.', 'date': 'Reviewed in the United States on March 15, 2024', 'rating': '4.0 out of 5 stars', 'title': 'Poor Handle Design, Great Cup!', 'userName': 'N. Chambers N. Chambers', 'url': '/gp/customer-reviews/R35UQWNPT3RBB9/ref=cm_cr_dp_d_rvw_ttl?ie=UTF8&ASIN=B0CFN6GRTH', 'imageUrlList': ['https://m.media-amazon.com/images/I/61cp9OQmV+L._SY88.jpg', 'https://m.media-amazon.com/images/I/61pCpH3FCWL._SY88.jpg'], 'variationList': ['Color: Aurora', 'Size: 32 Oz'], 'reviewId': 'R35UQWNPT3RBB9', 'locale': None}, {'text': 'Forget paying double the price for the \"popular\" one right now. I fill this up with cold water in mornings with or without ice and it stays cold all day. No sweating. Has 2 separate lids, one for straw(nice one included) and one w slide for drinking it hot liquid use. I haven\\'t tried it with anything hot but hadn\\'t planned to use it like that. If you fill this a couple times daily you have more than received your daily fluid intake. Great way to keep tabs on hydration for yourself or any other family member. Fits perfectly in the car. Its just really nice. Easy to clean as well. Stainless steel interior. Love having a full handle to hold onto. Buy it! You\\'ll like it!!', 'date': 'Reviewed in the United States on April 12, 2024', 'rating': '5.0 out of 5 stars', 'title': 'Good or better than the ame brand or most popular', 'userName': 'DeeDee', 'url': '/gp/customer-reviews/R1JZ8HM4CQGA5G/ref=cm_cr_dp_d_rvw_ttl?ie=UTF8&ASIN=B0CFN6GRTH', 'imageUrlList': [], 'variationList': ['Color: Burgundy', 'Size: 32 Oz'], 'reviewId': 'R1JZ8HM4CQGA5G', 'locale': None}, {'text': 'My husband gave me this to try something different from the Stanley since he had read negative reviews on the one. I love this cup! * keeps drinks cold * two options for the lid - straw is great * rubber bottom prevents scratches and slippage * fits great in car cup holder', 'date': 'Reviewed in the United States on March 10, 2024', 'rating': '5.0 out of 5 stars', 'title': 'Great cup - no leaks with unique straw lid', 'userName': 'K. Gerard K. Gerard', 'url': '/gp/customer-reviews/R3CFA0AKYVHG2P/ref=cm_cr_dp_d_rvw_ttl?ie=UTF8&ASIN=B0CFN6GRTH', 'imageUrlList': ['https://m.media-amazon.com/images/I/71iMRorbNKL._SY88.jpg'], 'variationList': ['Color: Midnight Black', 'Size: 40 Oz'], 'reviewId': 'R3CFA0AKYVHG2P', 'locale': None}, {'text': \"I have a cup obsession. I ordered this cup while I waited for my hydrojug to arrive, so I ended up using this cup exclusively for 2 weeks and it is one of the best purchases I've made! The colors are AMAZING. It comes with 2 straws and two types of lids, fits in cup holders, has a rubber bottom, keeps ice and drinks cold, and when my toddlers knock it over...it doesn't spill! I use my iron flask as my at home cup or for my large not water beverages. I bought it in lavender and sand in the 40 oz, and the clementine in the 24 oz. I love them so much i plan to get many more. My mom even ordered one when I showed her what I got. Don't hesitate. These cups are beautiful and in my opinion better than that other extremely popular brand that everyone wants and has.\", 'date': 'Reviewed in the United States on February 1, 2024', 'rating': '5.0 out of 5 stars', 'title': \"Don't hesitate!\", 'userName': 'Amazon Customer Amazon Customer', 'url': '/gp/customer-reviews/R3UE1LMZDU8KKB/ref=cm_cr_dp_d_rvw_ttl?ie=UTF8&ASIN=B0CFN6GRTH', 'imageUrlList': ['https://m.media-amazon.com/images/I/71cQ8RvkaoL._SY88.jpg', 'https://m.media-amazon.com/images/I/71xYK8W+t1L._SY88.jpg'], 'variationList': [], 'reviewId': 'R3UE1LMZDU8KKB', 'locale': None}], 'productSpecification': [], 'mainImage': {'imageUrl': 'https://m.media-amazon.com/images/I/6135tftmuuL._AC_SX679_.jpg', 'imageResolution': '679 x 679'}, 'variations': [{'variationName': 'variation_color_name', 'values': [{'value': 'A Morning Mist', 'dpUrl': '/dp/B0CHXV3RQP/ref=twister_B0CNHQ1QM5', 'selected': False, 'available': False, 'price': 0.0, 'imageUrl': 'https://m.media-amazon.com/images/I/014L+VeHPmL._SS36_.jpg', 'asin': ''}, {'value': 'Apple Green', 'dpUrl': '/dp/B0CVL4YL8F/ref=twister_B0CNHQ1QM5?_encoding=UTF8&psc=1', 'selected': False, 'available': True, 'price': 0.0, 'imageUrl': 'https://m.media-amazon.com/images/I/01Jp2qPtAUL._SS36_.jpg', 'asin': 'B0CVL4YL8F'}, {'value': 'Aurora', 'dpUrl': '/dp/B0CFN3D2GX/ref=twister_B0CNHQ1QM5?_encoding=UTF8&psc=1', 'selected': False, 'available': True, 'price': 0.0, 'imageUrl': 'https://m.media-amazon.com/images/I/21I4If1816L._SS36_.jpg', 'asin': 'B0CFN3D2GX'}, {'value': 'Burgundy', 'dpUrl': '', 'selected': True, 'available': True, 'price': 0.0, 'imageUrl': 'https://m.media-amazon.com/images/I/01nFuK3S0UL._SS36_.jpg', 'asin': 'B0CFN6GRTH'}, {'value': 'Clementine', 'dpUrl': '/dp/B0CJCLS4J7/ref=twister_B0CNHQ1QM5?_encoding=UTF8&psc=1', 'selected': False, 'available': True, 'price': 0.0, 'imageUrl': 'https://m.media-amazon.com/images/I/011OK1TuOdL._SS36_.jpg', 'asin': 'B0CJCLS4J7'}, {'value': 'Cobalt Blue', 'dpUrl': '/dp/B0CJCL4RYL/ref=twister_B0CNHQ1QM5?_encoding=UTF8&psc=1', 'selected': False, 'available': True, 'price': 0.0, 'imageUrl': 'https://m.media-amazon.com/images/I/01lyjtkskUL._SS36_.jpg', 'asin': 'B0CJCL4RYL'}, {'value': 'Cobalt Blue Speckle', 'dpUrl': '/dp/B0CR4ZQMXZ/ref=twister_B0CNHQ1QM5', 'selected': False, 'available': False, 'price': 0.0, 'imageUrl': 'https://m.media-amazon.com/images/I/41h6Cda3O6L._SS36_.jpg', 'asin': ''}, {'value': 'Dark Night', 'dpUrl': '/dp/B0CFMRSLFK/ref=twister_B0CNHQ1QM5?_encoding=UTF8&psc=1', 'selected': False, 'available': True, 'price': 0.0, 'imageUrl': 'https://m.media-amazon.com/images/I/21wjSXBD6NL._SS36_.jpg', 'asin': 'B0CFMRSLFK'}, {'value': 'Dark Pine', 'dpUrl': '/dp/B0CFNFNZPX/ref=twister_B0CNHQ1QM5?_encoding=UTF8&psc=1', 'selected': False, 'available': True, 'price': 0.0, 'imageUrl': 'https://m.media-amazon.com/images/I/01ExGS+xoqL._SS36_.jpg', 'asin': 'B0CFNFNZPX'}, {'value': 'Dark Pine Speckle', 'dpUrl': '/dp/B0CR558874/ref=twister_B0CNHQ1QM5', 'selected': False, 'available': False, 'price': 0.0, 'imageUrl': 'https://m.media-amazon.com/images/I/41exU7rgljL._SS36_.jpg', 'asin': ''}, {'value': 'Dark Rainbow', 'dpUrl': '/dp/B0CFN47RYW/ref=twister_B0CNHQ1QM5?_encoding=UTF8&psc=1', 'selected': False, 'available': True, 'price': 0.0, 'imageUrl': 'https://m.media-amazon.com/images/I/21asumD11OL._SS36_.jpg', 'asin': 'B0CFN47RYW'}, {'value': 'Elemental Gray', 'dpUrl': '/dp/B0CQ6XH79Z/ref=twister_B0CNHQ1QM5', 'selected': False, 'available': False, 'price': 0.0, 'imageUrl': 'https://m.media-amazon.com/images/I/01ghHJn39OL._SS36_.jpg', 'asin': ''}, {'value': 'Honey Yellow', 'dpUrl': '/dp/B0CVL732D9/ref=twister_B0CNHQ1QM5?_encoding=UTF8&psc=1', 'selected': False, 'available': True, 'price': 0.0, 'imageUrl': 'https://m.media-amazon.com/images/I/01Pg99iXsKL._SS36_.jpg', 'asin': 'B0CVL732D9'}, {'value': 'Lavender', 'dpUrl': '/dp/B0CRSFTRBB/ref=twister_B0CNHQ1QM5', 'selected': False, 'available': False, 'price': 0.0, 'imageUrl': 'https://m.media-amazon.com/images/I/01XofM3kxzL._SS36_.jpg', 'asin': ''}, {'value': 'Midnight Black', 'dpUrl': '/dp/B0CFMPN1M7/ref=twister_B0CNHQ1QM5?_encoding=UTF8&psc=1', 'selected': False, 'available': True, 'price': 0.0, 'imageUrl': 'https://m.media-amazon.com/images/I/21z9xS+y8CL._SS36_.jpg', 'asin': 'B0CFMPN1M7'}, {'value': 'Pink Tulip', 'dpUrl': '/dp/B0CVLFFJ99/ref=twister_B0CNHQ1QM5?_encoding=UTF8&psc=1', 'selected': False, 'available': True, 'price': 0.0, 'imageUrl': 'https://m.media-amazon.com/images/I/01ualKQc+6L._SS36_.jpg', 'asin': 'B0CVLFFJ99'}, {'value': 'Rose Gold', 'dpUrl': '/dp/B0CFMRK6QW/ref=twister_B0CNHQ1QM5?_encoding=UTF8&psc=1', 'selected': False, 'available': True, 'price': 0.0, 'imageUrl': 'https://m.media-amazon.com/images/I/216p+aomqSL._SS36_.jpg', 'asin': 'B0CFMRK6QW'}, {'value': 'Rusty Red', 'dpUrl': '/dp/B0CJCKKXFQ/ref=twister_B0CNHQ1QM5?_encoding=UTF8&psc=1', 'selected': False, 'available': True, 'price': 0.0, 'imageUrl': 'https://m.media-amazon.com/images/I/018oArKdVGL._SS36_.jpg', 'asin': 'B0CJCKKXFQ'}, {'value': 'Sage', 'dpUrl': '/dp/B0CJCKN9ZS/ref=twister_B0CNHQ1QM5?_encoding=UTF8&psc=1', 'selected': False, 'available': True, 'price': 0.0, 'imageUrl': 'https://m.media-amazon.com/images/I/01RCUwCT1wL._SS36_.jpg', 'asin': 'B0CJCKN9ZS'}, {'value': 'Sand', 'dpUrl': '/dp/B0CHXJ14RQ/ref=twister_B0CNHQ1QM5', 'selected': False, 'available': False, 'price': 0.0, 'imageUrl': 'https://m.media-amazon.com/images/I/01iJr23HPYL._SS36_.jpg', 'asin': ''}, {'value': 'Twilight Blue', 'dpUrl': '/dp/B0CFNFN2LD/ref=twister_B0CNHQ1QM5?_encoding=UTF8&psc=1', 'selected': False, 'available': True, 'price': 0.0, 'imageUrl': 'https://m.media-amazon.com/images/I/21BjRr3EPdL._SS36_.jpg', 'asin': 'B0CFNFN2LD'}]}, {'variationName': 'variation_size_name', 'values': [{'value': '16 Oz', 'dpUrl': '/dp/B0CRSJ5C64/ref=twister_B0CNHQ1QM5', 'selected': False, 'available': False, 'price': 0.0, 'imageUrl': None, 'asin': ''}, {'value': '32 Oz', 'dpUrl': '', 'selected': True, 'available': True, 'price': 0.0, 'imageUrl': None, 'asin': 'B0CFN6GRTH'}, {'value': '40 Oz', 'dpUrl': '/dp/B0C4ZKL781/ref=twister_B0CNHQ1QM5?_encoding=UTF8&psc=1', 'selected': False, 'available': True, 'price': 0.0, 'imageUrl': None, 'asin': 'B0C4ZKL781'}]}], 'bookVariations': [], 'categories': ['Home & Kitchen', 'Kitchen & Dining', 'Dining & Entertaining', 'Glassware & Drinkware', 'Tumblers & Water Glasses'], 'categoriesExtended': [{'name': 'Home & Kitchen', 'url': '/home-garden-kitchen-furniture-bedding/b/ref=dp_bc_aui_C_1/145-2484403-3152368?ie=UTF8&node=1055398', 'node': '1055398'}, {'name': 'Kitchen & Dining', 'url': '/kitchen-dining/b/ref=dp_bc_aui_C_2/145-2484403-3152368?ie=UTF8&node=284507', 'node': '284507'}, {'name': 'Dining & Entertaining', 'url': '/dining-entertaining/b/ref=dp_bc_aui_C_3/145-2484403-3152368?ie=UTF8&node=13162311', 'node': '13162311'}, {'name': 'Glassware & Drinkware', 'url': '/glassware/b/ref=dp_bc_aui_C_4/145-2484403-3152368?ie=UTF8&node=13217501', 'node': '13217501'}, {'name': 'Tumblers & Water Glasses', 'url': '/Tumblers/b/ref=dp_bc_aui_C_5/145-2484403-3152368?ie=UTF8&node=13218451', 'node': '13218451'}], 'currency': None, 'acKeywordLink': None, 'deliveryMessage': None, 'rentPrice': 0.0, 'usedPrice': 0.0, 'retailPriceRent': 0.0, 'coupon': None, 'series': None, 'importantInformation': [], 'buyBoxUsed': None, 'aboutProduct': [{'name': 'Brand', 'value': 'IRON °FLASK'}, {'name': 'Color', 'value': 'Burgundy'}, {'name': 'Special Feature', 'value': 'Sweat Free, Hot 5 Hours, Double Walled, Leak-Proof, Cold 20 Hours'}, {'name': 'Style', 'value': 'Classic'}, {'name': 'Theme', 'value': 'Travel'}, {'name': 'Material Stainless Steel', 'value': ''}, {'name': '', 'value': 'Material Stainless Steel'}, {'name': '', 'value': 'Capacity 2 Pounds'}], 'globalReviews': [{'text': 'I’ve been wanting a tumblr with a straw for so long, but Stanley’s are expensive ! I watched a video of someone comparing a bunch of tumblrs and this one came up at the top! It’s completely leak proof, super durable, and so cute! 11/10 would recommend 🤩', 'date': 'Reviewed in Canada on March 13, 2024', 'rating': '5.0 out of 5 stars', 'title': None, 'userName': 'Carly j. Carly j.', 'url': '', 'imageUrlList': [], 'variationList': ['Color: Aurora', 'Size: 32 Oz'], 'reviewId': 'RKHXGHDSFR5BX', 'locale': None}, {'text': 'Really great looking and durable products that keep cold drinks cold. This is my second bottle, I mostly use my big 64oz for going to the beach and wanted something more portable for day to day. I can say from experience that these products are excellent value and last. Love this tumbler so far. The color is beautiful and the matching straw is a lovely touch.', 'date': 'Reviewed in Canada on February 14, 2024', 'rating': '5.0 out of 5 stars', 'title': None, 'userName': 'Kim Cranston', 'url': '', 'imageUrlList': [], 'variationList': [], 'reviewId': 'R1JWDQ6JRC81LF', 'locale': None}, {'text': 'Es perfecto! Excelente tamaño, color justo como en las fotos, gran calidad y conserva mi agua helada por días! Es mi quinto producto de Iron Flask. Recomendado!!', 'date': 'Reviewed in Mexico on October 23, 2023', 'rating': '5.0 out of 5 stars', 'title': 'Es perfecto!', 'userName': 'Gabriela Flores Gabriela Flores', 'url': '', 'imageUrlList': [], 'variationList': ['Color: Rose Gold', 'Size: 40 Oz'], 'reviewId': 'R2NGHJFIZABB9O', 'locale': {'language': 'es', 'country': 'MX', 'marketplaceId': 'A1AM78C64UM0Y8'}}, {'text': 'My coffee stays hot all day long and I can almost fit the entire pot in this 40 ouncer. I also have the 30 ouncer but it’s hard to hold without the handle. Get the ones with the handle!', 'date': 'Reviewed in Canada on March 2, 2024', 'rating': '5.0 out of 5 stars', 'title': None, 'userName': 'Zaggy', 'url': '', 'imageUrlList': [], 'variationList': [], 'reviewId': 'R155EPZGNGMJ7Q', 'locale': None}, {'text': 'This tumbler is amazing and absolutely gorgeous! Keeps water cold and is definitely spill proof. Love that it has a non slip bottom. Great product!', 'date': 'Reviewed in Canada on February 24, 2024', 'rating': '5.0 out of 5 stars', 'title': None, 'userName': 'Excellent product for an amazing price! Fits well! Water resistant! Very happy!', 'url': '', 'imageUrlList': [], 'variationList': ['Color: Dark Rainbow', 'Size: 40 Oz'], 'reviewId': 'R1T8TMEE4K09XV', 'locale': None}], 'addon': False, 'pantry': False, 'used': False, 'prime': True}\n"
          ]
        }
      ],
      "source": [
        "import requests\n",
        "\n",
        "url = \"https://axesso-axesso-amazon-data-service-v1.p.rapidapi.com/amz/amazon-lookup-product\"\n",
        "\n",
        "querystring = {\"url\":\"https://www.amazon.com/dp/B0CFN6GRTH/\"}\n",
        "\n",
        "headers = {\n",
        "\t\"X-RapidAPI-Key\": \"1342981e3emshc7a5f249e891318p1a214fjsn76e638f920ee\",\n",
        "\t\"X-RapidAPI-Host\": \"axesso-axesso-amazon-data-service-v1.p.rapidapi.com\"\n",
        "}\n",
        "\n",
        "response = requests.get(url, headers=headers, params=querystring)\n",
        "\n",
        "print(response.json())"
      ]
    },
    {
      "cell_type": "code",
      "source": [
        "pip install requests dash"
      ],
      "metadata": {
        "colab": {
          "base_uri": "https://localhost:8080/"
        },
        "id": "dXs9GyV5-0j1",
        "outputId": "d8092e9c-714f-49ec-d3a9-1c707a2788b7"
      },
      "id": "dXs9GyV5-0j1",
      "execution_count": 3,
      "outputs": [
        {
          "output_type": "stream",
          "name": "stdout",
          "text": [
            "Requirement already satisfied: requests in /usr/local/lib/python3.10/dist-packages (2.31.0)\n",
            "Collecting dash\n",
            "  Downloading dash-2.16.1-py3-none-any.whl (10.2 MB)\n",
            "\u001b[2K     \u001b[90m━━━━━━━━━━━━━━━━━━━━━━━━━━━━━━━━━━━━━━━━\u001b[0m \u001b[32m10.2/10.2 MB\u001b[0m \u001b[31m15.7 MB/s\u001b[0m eta \u001b[36m0:00:00\u001b[0m\n",
            "\u001b[?25hRequirement already satisfied: charset-normalizer<4,>=2 in /usr/local/lib/python3.10/dist-packages (from requests) (3.3.2)\n",
            "Requirement already satisfied: idna<4,>=2.5 in /usr/local/lib/python3.10/dist-packages (from requests) (3.6)\n",
            "Requirement already satisfied: urllib3<3,>=1.21.1 in /usr/local/lib/python3.10/dist-packages (from requests) (2.0.7)\n",
            "Requirement already satisfied: certifi>=2017.4.17 in /usr/local/lib/python3.10/dist-packages (from requests) (2024.2.2)\n",
            "Requirement already satisfied: Flask<3.1,>=1.0.4 in /usr/local/lib/python3.10/dist-packages (from dash) (2.2.5)\n",
            "Requirement already satisfied: Werkzeug<3.1 in /usr/local/lib/python3.10/dist-packages (from dash) (3.0.2)\n",
            "Requirement already satisfied: plotly>=5.0.0 in /usr/local/lib/python3.10/dist-packages (from dash) (5.15.0)\n",
            "Collecting dash-html-components==2.0.0 (from dash)\n",
            "  Downloading dash_html_components-2.0.0-py3-none-any.whl (4.1 kB)\n",
            "Collecting dash-core-components==2.0.0 (from dash)\n",
            "  Downloading dash_core_components-2.0.0-py3-none-any.whl (3.8 kB)\n",
            "Collecting dash-table==5.0.0 (from dash)\n",
            "  Downloading dash_table-5.0.0-py3-none-any.whl (3.9 kB)\n",
            "Requirement already satisfied: importlib-metadata in /usr/local/lib/python3.10/dist-packages (from dash) (7.1.0)\n",
            "Requirement already satisfied: typing-extensions>=4.1.1 in /usr/local/lib/python3.10/dist-packages (from dash) (4.11.0)\n",
            "Collecting retrying (from dash)\n",
            "  Downloading retrying-1.3.4-py3-none-any.whl (11 kB)\n",
            "Requirement already satisfied: nest-asyncio in /usr/local/lib/python3.10/dist-packages (from dash) (1.6.0)\n",
            "Requirement already satisfied: setuptools in /usr/local/lib/python3.10/dist-packages (from dash) (67.7.2)\n",
            "Requirement already satisfied: Jinja2>=3.0 in /usr/local/lib/python3.10/dist-packages (from Flask<3.1,>=1.0.4->dash) (3.1.3)\n",
            "Requirement already satisfied: itsdangerous>=2.0 in /usr/local/lib/python3.10/dist-packages (from Flask<3.1,>=1.0.4->dash) (2.1.2)\n",
            "Requirement already satisfied: click>=8.0 in /usr/local/lib/python3.10/dist-packages (from Flask<3.1,>=1.0.4->dash) (8.1.7)\n",
            "Requirement already satisfied: tenacity>=6.2.0 in /usr/local/lib/python3.10/dist-packages (from plotly>=5.0.0->dash) (8.2.3)\n",
            "Requirement already satisfied: packaging in /usr/local/lib/python3.10/dist-packages (from plotly>=5.0.0->dash) (24.0)\n",
            "Requirement already satisfied: MarkupSafe>=2.1.1 in /usr/local/lib/python3.10/dist-packages (from Werkzeug<3.1->dash) (2.1.5)\n",
            "Requirement already satisfied: zipp>=0.5 in /usr/local/lib/python3.10/dist-packages (from importlib-metadata->dash) (3.18.1)\n",
            "Requirement already satisfied: six>=1.7.0 in /usr/local/lib/python3.10/dist-packages (from retrying->dash) (1.16.0)\n",
            "Installing collected packages: dash-table, dash-html-components, dash-core-components, retrying, dash\n",
            "Successfully installed dash-2.16.1 dash-core-components-2.0.0 dash-html-components-2.0.0 dash-table-5.0.0 retrying-1.3.4\n"
          ]
        }
      ]
    },
    {
      "cell_type": "code",
      "execution_count": 4,
      "id": "74e46882",
      "metadata": {
        "colab": {
          "base_uri": "https://localhost:8080/",
          "height": 671
        },
        "id": "74e46882",
        "outputId": "66422c6b-1971-45f1-896c-bc238ea0bdcd"
      },
      "outputs": [
        {
          "output_type": "display_data",
          "data": {
            "text/plain": [
              "<IPython.core.display.Javascript object>"
            ],
            "application/javascript": [
              "(async (port, path, width, height, cache, element) => {\n",
              "    if (!google.colab.kernel.accessAllowed && !cache) {\n",
              "      return;\n",
              "    }\n",
              "    element.appendChild(document.createTextNode(''));\n",
              "    const url = await google.colab.kernel.proxyPort(port, {cache});\n",
              "    const iframe = document.createElement('iframe');\n",
              "    iframe.src = new URL(path, url).toString();\n",
              "    iframe.height = height;\n",
              "    iframe.width = width;\n",
              "    iframe.style.border = 0;\n",
              "    iframe.allow = [\n",
              "        'accelerometer',\n",
              "        'autoplay',\n",
              "        'camera',\n",
              "        'clipboard-read',\n",
              "        'clipboard-write',\n",
              "        'gyroscope',\n",
              "        'magnetometer',\n",
              "        'microphone',\n",
              "        'serial',\n",
              "        'usb',\n",
              "        'xr-spatial-tracking',\n",
              "    ].join('; ');\n",
              "    element.appendChild(iframe);\n",
              "  })(8055, \"/\", \"100%\", 650, false, window.element)"
            ]
          },
          "metadata": {}
        }
      ],
      "source": [
        "import dash\n",
        "from dash import dcc, html\n",
        "from dash.dependencies import Input, Output, State\n",
        "import requests\n",
        "\n",
        "\n",
        "app = dash.Dash(__name__)\n",
        "\n",
        "\n",
        "app.layout = html.Div([\n",
        "    html.H1(\"Amazon Product Details\"),\n",
        "    dcc.Input(id='url-input', type='text', placeholder='Enter Amazon Product URL'),\n",
        "    html.Button('Submit', id='submit-button', n_clicks=0),\n",
        "    html.Div(id='output-container'),\n",
        "])\n",
        "\n",
        "\n",
        "@app.callback(\n",
        "    Output('output-container', 'children'),\n",
        "    [Input('submit-button', 'n_clicks')],\n",
        "    [State('url-input', 'value')]\n",
        ")\n",
        "def update_output(n_clicks, url):\n",
        "    if not url:\n",
        "        return \"Please enter an Amazon product URL\"\n",
        "\n",
        "\n",
        "    api_url = \"https://axesso-axesso-amazon-data-service-v1.p.rapidapi.com/amz/amazon-lookup-product\"\n",
        "    headers = {\n",
        "        \"X-RapidAPI-Key\": \"1342981e3emshc7a5f249e891318p1a214fjsn76e638f920ee\",\n",
        "        \"X-RapidAPI-Host\": \"axesso-axesso-amazon-data-service-v1.p.rapidapi.com\"\n",
        "    }\n",
        "    params = {\"url\": url}\n",
        "    response = requests.get(api_url, headers=headers, params=params)\n",
        "    data = response.json()\n",
        "\n",
        "    # Display product details\n",
        "    if data['responseStatus'] == 'PRODUCT_FOUND_RESPONSE':\n",
        "        product_title = data['productTitle']\n",
        "        manufacturer = data['manufacturer']\n",
        "        rating = data['productRating']\n",
        "        price = data['price']\n",
        "\n",
        "        return html.Div([\n",
        "            html.H3(product_title),\n",
        "            html.P(f\"Manufacturer: {manufacturer}\"),\n",
        "            html.P(f\"Rating: {rating}\"),\n",
        "            html.P(f\"Price: ${price}\"),\n",
        "        ])\n",
        "    else:\n",
        "        return \"Product not found or error occurred\"\n",
        "\n",
        "if __name__ == '__main__':\n",
        "    app.run_server(debug=True,port =8055)\n"
      ]
    },
    {
      "cell_type": "code",
      "execution_count": null,
      "id": "a77af334",
      "metadata": {
        "id": "a77af334"
      },
      "outputs": [],
      "source": []
    }
  ],
  "metadata": {
    "kernelspec": {
      "display_name": "Python 3 (ipykernel)",
      "language": "python",
      "name": "python3"
    },
    "language_info": {
      "codemirror_mode": {
        "name": "ipython",
        "version": 3
      },
      "file_extension": ".py",
      "mimetype": "text/x-python",
      "name": "python",
      "nbconvert_exporter": "python",
      "pygments_lexer": "ipython3",
      "version": "3.11.4"
    },
    "colab": {
      "provenance": []
    }
  },
  "nbformat": 4,
  "nbformat_minor": 5
}